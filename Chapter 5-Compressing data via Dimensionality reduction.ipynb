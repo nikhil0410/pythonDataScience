{
 "cells": [
  {
   "cell_type": "code",
   "execution_count": 18,
   "metadata": {},
   "outputs": [],
   "source": [
    "import pandas as pd\n",
    "df_wine = pd.read_csv('http://archive.ics.uci.edu/ml/machine-learning-databases/wine/wine.data', header=None)\n",
    "df_wine.columns = ['Class label', 'Alcohol','Malic acid', 'Ash','Alcalinity of ash', 'Magnesium','Total phenols', 'Flavanoids','Nonflavanoid phenols','Proanthocyanins','Color intensity', 'Hue','OD280/OD315 of diluted wines','Proline']"
   ]
  },
  {
   "cell_type": "code",
   "execution_count": 19,
   "metadata": {},
   "outputs": [],
   "source": [
    "from sklearn.cross_validation import train_test_split\n",
    "from sklearn.preprocessing import StandardScaler\n",
    "X,y = df_wine.iloc[:,1:].values, df_wine.iloc[:,0].values\n",
    "X_train,X_test,y_train,y_test = train_test_split(X,y,test_size=0.3,random_state=0)\n",
    "sc=StandardScaler()\n",
    "X_train_std = sc.fit_transform(X_train)\n",
    "X_test_std = sc.transform(X_test)\n",
    "\n"
   ]
  },
  {
   "cell_type": "code",
   "execution_count": 20,
   "metadata": {},
   "outputs": [
    {
     "data": {
      "text/plain": [
       "array([ 0.14669811, -0.24224554, -0.02993442, -0.25519002,  0.12079772,\n",
       "        0.38934455,  0.42326486, -0.30634956,  0.30572219, -0.09869191,\n",
       "        0.30032535,  0.36821154,  0.29259713])"
      ]
     },
     "execution_count": 20,
     "metadata": {},
     "output_type": "execute_result"
    }
   ],
   "source": [
    "#finding the eigen values and eigen vector using numpy\n",
    "import numpy as np\n",
    "cov_mat = np.cov(X_train_std.T)\n",
    "eigen_vals, eigen_vacs = np.linalg.eig(cov_mat)\n",
    "#Although the numpy.linalg.eig function was designed to decompose nonsymmetric square matrices, you may  nd that it returns complex eigenvalues in certain cases.\n",
    "#A related function, numpy.linalg.eigh, has been implemented to decompose Hermetian matrices, which is a numerically more stable approach to work with symmetric matrices such as the covariance matrix; numpy.linalg.eigh always returns real eigenvalues.\n",
    "eigen_vals\n",
    "eigen_vacs[:,0]"
   ]
  },
  {
   "cell_type": "markdown",
   "metadata": {},
   "source": [
    "The variance explained ratio of an eigenvalue λj is simply the fraction of an eigenvalue λj and the total sum of the eigenvalues:\n",
    "λj /∑ λj"
   ]
  },
  {
   "cell_type": "code",
   "execution_count": 39,
   "metadata": {},
   "outputs": [
    {
     "data": {
      "image/png": "[encoded data removed]",
      "text/plain": [
       "<matplotlib.figure.Figure at 0x116507e10>"
      ]
     },
     "metadata": {},
     "output_type": "display_data"
    }
   ],
   "source": [
    "#Using the NumPy cumsum function, we can then calculate the cumulative sum of explained variances, which we will plot via matplotlib's step function:\n",
    "tot = sum(eigen_vals)\n",
    "var_exp = [(i/tot) for i in sorted(eigen_vals, reverse=True)]\n",
    "cum_var_exp = np.cumsum(var_exp)\n",
    "import matplotlib.pyplot as plt\n",
    "plt.bar(range(1,14), var_exp, alpha=0.5, align='center', label='individual explained variance')\n",
    "plt.step(range(1,14), cum_var_exp, where = 'mid', label='cumulative align center')\n",
    "plt.ylabel('Explained variance ratio')\n",
    "plt.xlabel('Principal components')\n",
    "plt.legend(loc='best')\n",
    "plt.show()"
   ]
  },
  {
   "cell_type": "code",
   "execution_count": 22,
   "metadata": {},
   "outputs": [
    {
     "data": {
      "text/plain": [
       "[(4.8923083032737411,\n",
       "  array([ 0.14669811, -0.24224554, -0.02993442, -0.25519002,  0.12079772,\n",
       "          0.38934455,  0.42326486, -0.30634956,  0.30572219, -0.09869191,\n",
       "          0.30032535,  0.36821154,  0.29259713])),\n",
       " (2.4663503157592297,\n",
       "  array([ 0.50417079,  0.24216889,  0.28698484, -0.06468718,  0.22995385,\n",
       "          0.09363991,  0.01088622,  0.01870216,  0.03040352,  0.54527081,\n",
       "         -0.27924322, -0.174365  ,  0.36315461])),\n",
       " (1.4280997275048448,\n",
       "  array([-0.11723515,  0.14994658,  0.65639439,  0.58428234,  0.08226275,\n",
       "          0.18080442,  0.14295933,  0.17223475,  0.1583621 , -0.14242171,\n",
       "          0.09323872,  0.19607741, -0.09731711])),\n",
       " (1.0123346209044923,\n",
       "  array([ 0.20625461,  0.1304893 ,  0.01515363, -0.09042209, -0.83912835,\n",
       "          0.19317948,  0.14045955,  0.33733262, -0.1147529 ,  0.07878571,\n",
       "          0.02417403,  0.18402864,  0.05676778])),\n",
       " (0.84906459334502582,\n",
       "  array([-0.18781595,  0.56863978, -0.29920943, -0.04124995, -0.02719713,\n",
       "          0.14064543,  0.09268665, -0.08584168,  0.56510524,  0.01323461,\n",
       "         -0.37261081,  0.08937967, -0.21752948])),\n",
       " (0.60181514342298958,\n",
       "  array([-0.14885132, -0.26905276, -0.09333861, -0.10134239,  0.11256735,\n",
       "          0.01222488, -0.05503452,  0.69534088,  0.49835441,  0.15945216,\n",
       "          0.21651535, -0.23517236,  0.10562138])),\n",
       " (0.52251546206399679,\n",
       "  array([-0.17926366, -0.59263673,  0.06073346,  0.25032387, -0.28524056,\n",
       "          0.05314553,  0.07989941, -0.29737172,  0.20251913,  0.39736411,\n",
       "         -0.38465475, -0.08629033, -0.13029829])),\n",
       " (0.33051429173094082,\n",
       "  array([-0.40305492, -0.10183371,  0.35184142, -0.50045728,  0.08373917,\n",
       "          0.13511146,  0.00336017,  0.19012076, -0.17602994, -0.21493067,\n",
       "         -0.51725944,  0.13645604,  0.16775843])),\n",
       " (0.29595018365934694,\n",
       "  array([-0.41719758,  0.21710149,  0.12854985,  0.04733441, -0.27891878,\n",
       "         -0.28098565, -0.0391443 , -0.27862219,  0.14853946, -0.00410241,\n",
       "          0.19781412, -0.23813815,  0.63735021])),\n",
       " (0.23995530477949106,\n",
       "  array([  4.13320786e-04,  -8.78560762e-02,  -4.52518598e-01,\n",
       "           4.86169765e-01,   1.14764951e-01,   9.45645138e-02,\n",
       "          -1.00444099e-01,   2.00128778e-01,  -1.39942067e-01,\n",
       "          -1.15349466e-01,  -3.02254353e-01,   3.18414303e-01,\n",
       "           5.03247839e-01])),\n",
       " (0.2143221186987235,\n",
       "  array([ 0.40356719, -0.152475  ,  0.16837606, -0.06709029, -0.10239686,\n",
       "         -0.61860015, -0.13968028,  0.00163324,  0.38856849, -0.3083459 ,\n",
       "         -0.20045639,  0.28410033,  0.03755468])),\n",
       " (0.16831253504096219,\n",
       "  array([ 0.27566086, -0.0813845 , -0.01297513,  0.0989088 , -0.09592977,\n",
       "          0.28389764,  0.11672921, -0.03965663,  0.08606027, -0.57165189,\n",
       "         -0.19884453, -0.65086971,  0.07123771])),\n",
       " (0.084148456726794385,\n",
       "  array([-0.05546872,  0.03327316, -0.10061857,  0.05616586,  0.09584239,\n",
       "         -0.42126512,  0.8472247 ,  0.1662568 , -0.16619747,  0.03961736,\n",
       "         -0.10538369, -0.09950556, -0.01606618]))]"
      ]
     },
     "execution_count": 22,
     "metadata": {},
     "output_type": "execute_result"
    }
   ],
   "source": [
    "eigen_pairs = [(np.abs(eigen_vals[i] ), eigen_vacs[:,i]) for i in range(len(eigen_vals))]\n",
    "eigen_pairs.sort(reverse=True)\n",
    "eigen_pairs"
   ]
  },
  {
   "cell_type": "code",
   "execution_count": 23,
   "metadata": {},
   "outputs": [
    {
     "name": "stdout",
     "output_type": "stream",
     "text": [
      "Matrix W:\n",
      " [[ 0.14669811  0.50417079]\n",
      " [-0.24224554  0.24216889]\n",
      " [-0.02993442  0.28698484]\n",
      " [-0.25519002 -0.06468718]\n",
      " [ 0.12079772  0.22995385]\n",
      " [ 0.38934455  0.09363991]\n",
      " [ 0.42326486  0.01088622]\n",
      " [-0.30634956  0.01870216]\n",
      " [ 0.30572219  0.03040352]\n",
      " [-0.09869191  0.54527081]\n",
      " [ 0.30032535 -0.27924322]\n",
      " [ 0.36821154 -0.174365  ]\n",
      " [ 0.29259713  0.36315461]]\n"
     ]
    }
   ],
   "source": [
    "w = np.hstack((eigen_pairs[0][1][:,np.newaxis],\n",
    "              eigen_pairs[1][1][:, np.newaxis]))\n",
    "print('Matrix W:\\n',w)"
   ]
  },
  {
   "cell_type": "markdown",
   "metadata": {},
   "source": [
    " By executing the preceding code, we have created a 13×2-dimensional projection matrix W from the top two eigenvectors. Using the projection matrix, we can now transform a sample x (represented as 1×13-dimensional row vector) onto the PCA subspace obtaining x′ , a now two-dimensional sample vector consisting of two new features:x′= xW"
   ]
  },
  {
   "cell_type": "code",
   "execution_count": 24,
   "metadata": {},
   "outputs": [
    {
     "data": {
      "text/plain": [
       "array([ 2.59891628,  0.00484089])"
      ]
     },
     "execution_count": 24,
     "metadata": {},
     "output_type": "execute_result"
    }
   ],
   "source": [
    "X_train_std[0].dot(w)"
   ]
  },
  {
   "cell_type": "markdown",
   "metadata": {},
   "source": [
    "Similarly, we can transform the entire 124×13-dimensional training dataset onto the two principal components by calculating the matrix dot product:\n",
    "X′= XW"
   ]
  },
  {
   "cell_type": "code",
   "execution_count": 25,
   "metadata": {},
   "outputs": [],
   "source": [
    "X_train_pca = X_train_std.dot(w)"
   ]
  },
  {
   "cell_type": "markdown",
   "metadata": {},
   "source": [
    "visualization the above PCA model"
   ]
  },
  {
   "cell_type": "code",
   "execution_count": 43,
   "metadata": {},
   "outputs": [
    {
     "name": "stdout",
     "output_type": "stream",
     "text": [
      "[1 2 3 3 2 3 3 1 2 3 2 2 3 2 1 2 2 2 1 1 2 2 3 3 2 2 2 3 3 1 3 2 2 2 2 2 1\n",
      " 1 2 1 3 1 3 1 1 2 1 2 2 1 3 2 1 2 2 2 3 1 3 3 1 1 2 3 1 1 2 2 1 1 1 3 2 1\n",
      " 2 3 1 2 3 3 1 1 3 1 3 2 1 1 2 1 3 2 3 1 3 3 3 1 2 2 2 2 3 3 2 2 1 2 3 3 1\n",
      " 1 3 2 2 2 1 1 1 2 2 2 1 3]\n",
      "1 r s\n",
      "2 b x\n",
      "3 g o\n"
     ]
    },
    {
     "data": {
      "image/png": "[encoded data removed]",
      "text/plain": [
       "<matplotlib.figure.Figure at 0x11624c9e8>"
      ]
     },
     "metadata": {},
     "output_type": "display_data"
    }
   ],
   "source": [
    "colors = ['r', 'b','g']\n",
    "markers = ['s', 'x','o']\n",
    "fig = plt.figure()\n",
    "ax1 = fig.add_subplot(111)\n",
    "print(y_train)\n",
    "for l, c, m in zip(np.unique(y_train), colors, markers):\n",
    "    print(l,c,m)\n",
    "    ax1.scatter(X_train_pca[y_train == l, 0], X_train_pca[y_train == l,1], c=c, label=l, marker=m)\n",
    "plt.xlabel('PC 1')\n",
    "plt.ylabel('PC 2')\n",
    "plt.legend(loc = 'lower left')\n",
    "plt.show()"
   ]
  },
  {
   "cell_type": "code",
   "execution_count": null,
   "metadata": {},
   "outputs": [],
   "source": []
  }
 ],
 "metadata": {
  "kernelspec": {
   "display_name": "Python 3",
   "language": "python",
   "name": "python3"
  },
  "language_info": {
   "codemirror_mode": {
    "name": "ipython",
    "version": 3
   },
   "file_extension": ".py",
   "mimetype": "text/x-python",
   "name": "python",
   "nbconvert_exporter": "python",
   "pygments_lexer": "ipython3",
   "version": "3.6.2"
  }
 },
 "nbformat": 4,
 "nbformat_minor": 2
}
